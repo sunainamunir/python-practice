{
  "nbformat": 4,
  "nbformat_minor": 0,
  "metadata": {
    "colab": {
      "provenance": []
    },
    "kernelspec": {
      "name": "python3",
      "display_name": "Python 3"
    },
    "language_info": {
      "name": "python"
    }
  },
  "cells": [
    {
      "cell_type": "code",
      "execution_count": null,
      "metadata": {
        "id": "SlITSuDVRDcS"
      },
      "outputs": [],
      "source": [
        "data type\n",
        "#  1.numeric\n",
        "# 1.integer : without decimal point whole no ex, 345 ,45\n",
        "# 2.float : without decimal point\n",
        "# 3.complex : 1.real part 2.imaginary part\n"
      ]
    },
    {
      "cell_type": "code",
      "source": [
        "int=345\n",
        "print (int)\n",
        "print (type(int))"
      ],
      "metadata": {
        "colab": {
          "base_uri": "https://localhost:8080/"
        },
        "id": "3QYJLZhyYJjP",
        "outputId": "b3ace88a-0bff-49cd-c53a-f95fa5236811"
      },
      "execution_count": null,
      "outputs": [
        {
          "output_type": "stream",
          "name": "stdout",
          "text": [
            "345\n",
            "<class 'int'>\n"
          ]
        }
      ]
    },
    {
      "cell_type": "code",
      "source": [
        "x = \"hello word\"\n",
        "# display x:\n",
        "print(x)\n",
        " # display the data type of x :\n",
        "print(type(x))"
      ],
      "metadata": {
        "colab": {
          "base_uri": "https://localhost:8080/"
        },
        "id": "vvlkpdFnZtjn",
        "outputId": "bb7e1ab7-9ff8-4a4f-8e02-3b03174d734d"
      },
      "execution_count": null,
      "outputs": [
        {
          "output_type": "stream",
          "name": "stdout",
          "text": [
            "hello word\n",
            "<class 'str'>\n"
          ]
        }
      ]
    },
    {
      "cell_type": "code",
      "source": [
        "x = 20\n",
        "# display x:\n",
        "print(x)\n",
        "# display the data type of x:\n",
        "print(type(x))"
      ],
      "metadata": {
        "colab": {
          "base_uri": "https://localhost:8080/"
        },
        "id": "oQNF7vDQa0Ro",
        "outputId": "a0e92988-bb68-4391-d387-7425992b8978"
      },
      "execution_count": null,
      "outputs": [
        {
          "output_type": "stream",
          "name": "stdout",
          "text": [
            "20\n",
            "<class 'int'>\n"
          ]
        }
      ]
    },
    {
      "cell_type": "code",
      "source": [
        "x = 20.5\n",
        "# display x:\n",
        "print(x)\n",
        "# display the data type of x:\n",
        "print(type(x))"
      ],
      "metadata": {
        "colab": {
          "base_uri": "https://localhost:8080/"
        },
        "id": "5Tvafbf_beQY",
        "outputId": "ff9721c6-2eb9-4ef7-9b8f-644e856b035a"
      },
      "execution_count": null,
      "outputs": [
        {
          "output_type": "stream",
          "name": "stdout",
          "text": [
            "20.5\n",
            "<class 'float'>\n"
          ]
        }
      ]
    },
    {
      "cell_type": "code",
      "source": [
        "x = 1j\n",
        "# display x:\n",
        "print(x)\n",
        "# display the data type of x:\n",
        "print(type(x))"
      ],
      "metadata": {
        "colab": {
          "base_uri": "https://localhost:8080/"
        },
        "id": "oyg29Ieyb_5M",
        "outputId": "2decef4f-f2a8-4edf-b0e2-fa5050e34046"
      },
      "execution_count": null,
      "outputs": [
        {
          "output_type": "stream",
          "name": "stdout",
          "text": [
            "1j\n",
            "<class 'complex'>\n"
          ]
        }
      ]
    },
    {
      "cell_type": "code",
      "source": [
        "x = [ \"apple\" \"banana\" \"cherry\"]\n",
        "#display x:\n",
        "print(x)\n",
        "# display the data type of x:\n",
        "print(type(x))"
      ],
      "metadata": {
        "colab": {
          "base_uri": "https://localhost:8080/"
        },
        "id": "i63i8bV_cfJX",
        "outputId": "a23cc115-716b-40bb-efee-1b07dde158d2"
      },
      "execution_count": null,
      "outputs": [
        {
          "output_type": "stream",
          "name": "stdout",
          "text": [
            "['applebananacherry']\n",
            "<class 'list'>\n"
          ]
        }
      ]
    },
    {
      "cell_type": "code",
      "source": [
        "x =(\"apple\", \"banana\", \"cherry\")\n",
        "# display x:\n",
        "print(x)\n",
        "# display the"
      ],
      "metadata": {
        "id": "X6hzi-nvdfwM"
      },
      "execution_count": null,
      "outputs": []
    }
  ]
}